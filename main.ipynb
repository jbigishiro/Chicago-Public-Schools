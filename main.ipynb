{
 "cells": [
  {
   "cell_type": "markdown",
   "metadata": {},
   "source": [
    "### Chicago Public Schools - Progress Report Cards (2011-2012)"
   ]
  },
  {
   "cell_type": "code",
   "execution_count": 3,
   "metadata": {},
   "outputs": [],
   "source": [
    "import csv, sqlite3, pandas\n",
    "\n",
    "con = sqlite3.connect(\"RealWorldData.db\")\n",
    "cur = con.cursor()"
   ]
  },
  {
   "cell_type": "code",
   "execution_count": 13,
   "metadata": {},
   "outputs": [
    {
     "data": {
      "text/html": [
       "<div>\n",
       "<style scoped>\n",
       "    .dataframe tbody tr th:only-of-type {\n",
       "        vertical-align: middle;\n",
       "    }\n",
       "\n",
       "    .dataframe tbody tr th {\n",
       "        vertical-align: top;\n",
       "    }\n",
       "\n",
       "    .dataframe thead th {\n",
       "        text-align: right;\n",
       "    }\n",
       "</style>\n",
       "<table border=\"1\" class=\"dataframe\">\n",
       "  <thead>\n",
       "    <tr style=\"text-align: right;\">\n",
       "      <th></th>\n",
       "      <th>School_ID</th>\n",
       "      <th>NAME_OF_SCHOOL</th>\n",
       "      <th>Elementary, Middle, or High School</th>\n",
       "      <th>Street_Address</th>\n",
       "      <th>City</th>\n",
       "      <th>State</th>\n",
       "      <th>ZIP_Code</th>\n",
       "      <th>Phone_Number</th>\n",
       "      <th>Link</th>\n",
       "      <th>Network_Manager</th>\n",
       "      <th>...</th>\n",
       "      <th>Freshman_on_Track_Rate__</th>\n",
       "      <th>X_COORDINATE</th>\n",
       "      <th>Y_COORDINATE</th>\n",
       "      <th>Latitude</th>\n",
       "      <th>Longitude</th>\n",
       "      <th>COMMUNITY_AREA_NUMBER</th>\n",
       "      <th>COMMUNITY_AREA_NAME</th>\n",
       "      <th>Ward</th>\n",
       "      <th>Police_District</th>\n",
       "      <th>Location</th>\n",
       "    </tr>\n",
       "  </thead>\n",
       "  <tbody>\n",
       "    <tr>\n",
       "      <th>0</th>\n",
       "      <td>610038</td>\n",
       "      <td>Abraham Lincoln Elementary School</td>\n",
       "      <td>ES</td>\n",
       "      <td>615 W Kemper Pl</td>\n",
       "      <td>Chicago</td>\n",
       "      <td>IL</td>\n",
       "      <td>60614</td>\n",
       "      <td>(773) 534-5720</td>\n",
       "      <td>http://schoolreports.cps.edu/SchoolProgressRep...</td>\n",
       "      <td>Fullerton Elementary Network</td>\n",
       "      <td>...</td>\n",
       "      <td>NDA</td>\n",
       "      <td>1171699.458</td>\n",
       "      <td>1915829.428</td>\n",
       "      <td>41.924497</td>\n",
       "      <td>-87.644522</td>\n",
       "      <td>7</td>\n",
       "      <td>LINCOLN PARK</td>\n",
       "      <td>43</td>\n",
       "      <td>18</td>\n",
       "      <td>(41.92449696, -87.64452163)</td>\n",
       "    </tr>\n",
       "    <tr>\n",
       "      <th>1</th>\n",
       "      <td>610281</td>\n",
       "      <td>Adam Clayton Powell Paideia Community Academy ...</td>\n",
       "      <td>ES</td>\n",
       "      <td>7511 S South Shore Dr</td>\n",
       "      <td>Chicago</td>\n",
       "      <td>IL</td>\n",
       "      <td>60649</td>\n",
       "      <td>(773) 535-6650</td>\n",
       "      <td>http://schoolreports.cps.edu/SchoolProgressRep...</td>\n",
       "      <td>Skyway Elementary Network</td>\n",
       "      <td>...</td>\n",
       "      <td>NDA</td>\n",
       "      <td>1196129.985</td>\n",
       "      <td>1856209.466</td>\n",
       "      <td>41.760324</td>\n",
       "      <td>-87.556736</td>\n",
       "      <td>43</td>\n",
       "      <td>SOUTH SHORE</td>\n",
       "      <td>7</td>\n",
       "      <td>4</td>\n",
       "      <td>(41.76032435, -87.55673627)</td>\n",
       "    </tr>\n",
       "    <tr>\n",
       "      <th>2</th>\n",
       "      <td>610185</td>\n",
       "      <td>Adlai E Stevenson Elementary School</td>\n",
       "      <td>ES</td>\n",
       "      <td>8010 S Kostner Ave</td>\n",
       "      <td>Chicago</td>\n",
       "      <td>IL</td>\n",
       "      <td>60652</td>\n",
       "      <td>(773) 535-2280</td>\n",
       "      <td>http://schoolreports.cps.edu/SchoolProgressRep...</td>\n",
       "      <td>Midway Elementary Network</td>\n",
       "      <td>...</td>\n",
       "      <td>NDA</td>\n",
       "      <td>1148427.165</td>\n",
       "      <td>1851012.215</td>\n",
       "      <td>41.747111</td>\n",
       "      <td>-87.731702</td>\n",
       "      <td>70</td>\n",
       "      <td>ASHBURN</td>\n",
       "      <td>13</td>\n",
       "      <td>8</td>\n",
       "      <td>(41.74711093, -87.73170248)</td>\n",
       "    </tr>\n",
       "    <tr>\n",
       "      <th>3</th>\n",
       "      <td>609993</td>\n",
       "      <td>Agustin Lara Elementary Academy</td>\n",
       "      <td>ES</td>\n",
       "      <td>4619 S Wolcott Ave</td>\n",
       "      <td>Chicago</td>\n",
       "      <td>IL</td>\n",
       "      <td>60609</td>\n",
       "      <td>(773) 535-4389</td>\n",
       "      <td>http://schoolreports.cps.edu/SchoolProgressRep...</td>\n",
       "      <td>Pershing Elementary Network</td>\n",
       "      <td>...</td>\n",
       "      <td>NDA</td>\n",
       "      <td>1164504.290</td>\n",
       "      <td>1873959.199</td>\n",
       "      <td>41.809757</td>\n",
       "      <td>-87.672145</td>\n",
       "      <td>61</td>\n",
       "      <td>NEW CITY</td>\n",
       "      <td>20</td>\n",
       "      <td>9</td>\n",
       "      <td>(41.8097569, -87.6721446)</td>\n",
       "    </tr>\n",
       "    <tr>\n",
       "      <th>4</th>\n",
       "      <td>610513</td>\n",
       "      <td>Air Force Academy High School</td>\n",
       "      <td>HS</td>\n",
       "      <td>3630 S Wells St</td>\n",
       "      <td>Chicago</td>\n",
       "      <td>IL</td>\n",
       "      <td>60609</td>\n",
       "      <td>(773) 535-1590</td>\n",
       "      <td>http://schoolreports.cps.edu/SchoolProgressRep...</td>\n",
       "      <td>Southwest Side High School Network</td>\n",
       "      <td>...</td>\n",
       "      <td>91.8</td>\n",
       "      <td>1175177.622</td>\n",
       "      <td>1880745.126</td>\n",
       "      <td>41.828146</td>\n",
       "      <td>-87.632794</td>\n",
       "      <td>34</td>\n",
       "      <td>ARMOUR SQUARE</td>\n",
       "      <td>11</td>\n",
       "      <td>9</td>\n",
       "      <td>(41.82814609, -87.63279369)</td>\n",
       "    </tr>\n",
       "    <tr>\n",
       "      <th>...</th>\n",
       "      <td>...</td>\n",
       "      <td>...</td>\n",
       "      <td>...</td>\n",
       "      <td>...</td>\n",
       "      <td>...</td>\n",
       "      <td>...</td>\n",
       "      <td>...</td>\n",
       "      <td>...</td>\n",
       "      <td>...</td>\n",
       "      <td>...</td>\n",
       "      <td>...</td>\n",
       "      <td>...</td>\n",
       "      <td>...</td>\n",
       "      <td>...</td>\n",
       "      <td>...</td>\n",
       "      <td>...</td>\n",
       "      <td>...</td>\n",
       "      <td>...</td>\n",
       "      <td>...</td>\n",
       "      <td>...</td>\n",
       "      <td>...</td>\n",
       "    </tr>\n",
       "    <tr>\n",
       "      <th>561</th>\n",
       "      <td>610172</td>\n",
       "      <td>William T Sherman Elementary School</td>\n",
       "      <td>ES</td>\n",
       "      <td>1000 W 52nd St</td>\n",
       "      <td>Chicago</td>\n",
       "      <td>IL</td>\n",
       "      <td>60609</td>\n",
       "      <td>(773) 535-1757</td>\n",
       "      <td>http://schoolreports.cps.edu/SchoolProgressRep...</td>\n",
       "      <td>AUSL Schools</td>\n",
       "      <td>...</td>\n",
       "      <td>NDA</td>\n",
       "      <td>1170500.817</td>\n",
       "      <td>1870373.159</td>\n",
       "      <td>41.799788</td>\n",
       "      <td>-87.650255</td>\n",
       "      <td>61</td>\n",
       "      <td>NEW CITY</td>\n",
       "      <td>16</td>\n",
       "      <td>9</td>\n",
       "      <td>(41.79978772, -87.65025483)</td>\n",
       "    </tr>\n",
       "    <tr>\n",
       "      <th>562</th>\n",
       "      <td>609844</td>\n",
       "      <td>William W Carter Elementary School</td>\n",
       "      <td>ES</td>\n",
       "      <td>5740 S Michigan Ave</td>\n",
       "      <td>Chicago</td>\n",
       "      <td>IL</td>\n",
       "      <td>60637</td>\n",
       "      <td>(773) 535-0860</td>\n",
       "      <td>http://schoolreports.cps.edu/SchoolProgressRep...</td>\n",
       "      <td>Burnham Park Elementary Network</td>\n",
       "      <td>...</td>\n",
       "      <td>NDA</td>\n",
       "      <td>1178101.365</td>\n",
       "      <td>1866810.123</td>\n",
       "      <td>41.789841</td>\n",
       "      <td>-87.622490</td>\n",
       "      <td>40</td>\n",
       "      <td>WASHINGTON PARK</td>\n",
       "      <td>20</td>\n",
       "      <td>2</td>\n",
       "      <td>(41.78984129, -87.62248974)</td>\n",
       "    </tr>\n",
       "    <tr>\n",
       "      <th>563</th>\n",
       "      <td>610088</td>\n",
       "      <td>Wolfgang A Mozart Elementary School</td>\n",
       "      <td>ES</td>\n",
       "      <td>2200 N Hamlin Ave</td>\n",
       "      <td>Chicago</td>\n",
       "      <td>IL</td>\n",
       "      <td>60647</td>\n",
       "      <td>(773) 534-4160</td>\n",
       "      <td>http://schoolreports.cps.edu/SchoolProgressRep...</td>\n",
       "      <td>Fullerton Elementary Network</td>\n",
       "      <td>...</td>\n",
       "      <td>NDA</td>\n",
       "      <td>1150644.396</td>\n",
       "      <td>1914368.955</td>\n",
       "      <td>41.920927</td>\n",
       "      <td>-87.721925</td>\n",
       "      <td>22</td>\n",
       "      <td>LOGAN SQUARE</td>\n",
       "      <td>35</td>\n",
       "      <td>25</td>\n",
       "      <td>(41.92092734, -87.72192541)</td>\n",
       "    </tr>\n",
       "    <tr>\n",
       "      <th>564</th>\n",
       "      <td>609977</td>\n",
       "      <td>Woodlawn Community Elementary School</td>\n",
       "      <td>ES</td>\n",
       "      <td>6657 S Kimbark Ave</td>\n",
       "      <td>Chicago</td>\n",
       "      <td>IL</td>\n",
       "      <td>60637</td>\n",
       "      <td>(773) 535-0801</td>\n",
       "      <td>http://schoolreports.cps.edu/SchoolProgressRep...</td>\n",
       "      <td>Burnham Park Elementary Network</td>\n",
       "      <td>...</td>\n",
       "      <td>NDA</td>\n",
       "      <td>1185825.188</td>\n",
       "      <td>1860883.579</td>\n",
       "      <td>41.773400</td>\n",
       "      <td>-87.594356</td>\n",
       "      <td>42</td>\n",
       "      <td>WOODLAWN</td>\n",
       "      <td>5</td>\n",
       "      <td>3</td>\n",
       "      <td>(41.77339962, -87.59435584)</td>\n",
       "    </tr>\n",
       "    <tr>\n",
       "      <th>565</th>\n",
       "      <td>610392</td>\n",
       "      <td>World Language Academy High School</td>\n",
       "      <td>HS</td>\n",
       "      <td>3120 S Kostner Ave</td>\n",
       "      <td>Chicago</td>\n",
       "      <td>IL</td>\n",
       "      <td>60623</td>\n",
       "      <td>(773) 535-4334</td>\n",
       "      <td>http://schoolreports.cps.edu/SchoolProgressRep...</td>\n",
       "      <td>West Side High School Network</td>\n",
       "      <td>...</td>\n",
       "      <td>76</td>\n",
       "      <td>1147521.302</td>\n",
       "      <td>1883405.128</td>\n",
       "      <td>41.836020</td>\n",
       "      <td>-87.734195</td>\n",
       "      <td>30</td>\n",
       "      <td>SOUTH LAWNDALE</td>\n",
       "      <td>22</td>\n",
       "      <td>10</td>\n",
       "      <td>(41.83601953, -87.73419465)</td>\n",
       "    </tr>\n",
       "  </tbody>\n",
       "</table>\n",
       "<p>566 rows × 78 columns</p>\n",
       "</div>"
      ],
      "text/plain": [
       "     School_ID                                     NAME_OF_SCHOOL  \\\n",
       "0       610038                  Abraham Lincoln Elementary School   \n",
       "1       610281  Adam Clayton Powell Paideia Community Academy ...   \n",
       "2       610185                Adlai E Stevenson Elementary School   \n",
       "3       609993                    Agustin Lara Elementary Academy   \n",
       "4       610513                      Air Force Academy High School   \n",
       "..         ...                                                ...   \n",
       "561     610172                William T Sherman Elementary School   \n",
       "562     609844                 William W Carter Elementary School   \n",
       "563     610088                Wolfgang A Mozart Elementary School   \n",
       "564     609977               Woodlawn Community Elementary School   \n",
       "565     610392                 World Language Academy High School   \n",
       "\n",
       "    Elementary, Middle, or High School         Street_Address     City State  \\\n",
       "0                                   ES        615 W Kemper Pl  Chicago    IL   \n",
       "1                                   ES  7511 S South Shore Dr  Chicago    IL   \n",
       "2                                   ES     8010 S Kostner Ave  Chicago    IL   \n",
       "3                                   ES     4619 S Wolcott Ave  Chicago    IL   \n",
       "4                                   HS        3630 S Wells St  Chicago    IL   \n",
       "..                                 ...                    ...      ...   ...   \n",
       "561                                 ES         1000 W 52nd St  Chicago    IL   \n",
       "562                                 ES    5740 S Michigan Ave  Chicago    IL   \n",
       "563                                 ES      2200 N Hamlin Ave  Chicago    IL   \n",
       "564                                 ES     6657 S Kimbark Ave  Chicago    IL   \n",
       "565                                 HS     3120 S Kostner Ave  Chicago    IL   \n",
       "\n",
       "     ZIP_Code    Phone_Number  \\\n",
       "0       60614  (773) 534-5720   \n",
       "1       60649  (773) 535-6650   \n",
       "2       60652  (773) 535-2280   \n",
       "3       60609  (773) 535-4389   \n",
       "4       60609  (773) 535-1590   \n",
       "..        ...             ...   \n",
       "561     60609  (773) 535-1757   \n",
       "562     60637  (773) 535-0860   \n",
       "563     60647  (773) 534-4160   \n",
       "564     60637  (773) 535-0801   \n",
       "565     60623  (773) 535-4334   \n",
       "\n",
       "                                                  Link  \\\n",
       "0    http://schoolreports.cps.edu/SchoolProgressRep...   \n",
       "1    http://schoolreports.cps.edu/SchoolProgressRep...   \n",
       "2    http://schoolreports.cps.edu/SchoolProgressRep...   \n",
       "3    http://schoolreports.cps.edu/SchoolProgressRep...   \n",
       "4    http://schoolreports.cps.edu/SchoolProgressRep...   \n",
       "..                                                 ...   \n",
       "561  http://schoolreports.cps.edu/SchoolProgressRep...   \n",
       "562  http://schoolreports.cps.edu/SchoolProgressRep...   \n",
       "563  http://schoolreports.cps.edu/SchoolProgressRep...   \n",
       "564  http://schoolreports.cps.edu/SchoolProgressRep...   \n",
       "565  http://schoolreports.cps.edu/SchoolProgressRep...   \n",
       "\n",
       "                        Network_Manager  ... Freshman_on_Track_Rate__  \\\n",
       "0          Fullerton Elementary Network  ...                      NDA   \n",
       "1             Skyway Elementary Network  ...                      NDA   \n",
       "2             Midway Elementary Network  ...                      NDA   \n",
       "3           Pershing Elementary Network  ...                      NDA   \n",
       "4    Southwest Side High School Network  ...                     91.8   \n",
       "..                                  ...  ...                      ...   \n",
       "561                        AUSL Schools  ...                      NDA   \n",
       "562     Burnham Park Elementary Network  ...                      NDA   \n",
       "563        Fullerton Elementary Network  ...                      NDA   \n",
       "564     Burnham Park Elementary Network  ...                      NDA   \n",
       "565       West Side High School Network  ...                       76   \n",
       "\n",
       "    X_COORDINATE Y_COORDINATE   Latitude  Longitude COMMUNITY_AREA_NUMBER  \\\n",
       "0    1171699.458  1915829.428  41.924497 -87.644522                     7   \n",
       "1    1196129.985  1856209.466  41.760324 -87.556736                    43   \n",
       "2    1148427.165  1851012.215  41.747111 -87.731702                    70   \n",
       "3    1164504.290  1873959.199  41.809757 -87.672145                    61   \n",
       "4    1175177.622  1880745.126  41.828146 -87.632794                    34   \n",
       "..           ...          ...        ...        ...                   ...   \n",
       "561  1170500.817  1870373.159  41.799788 -87.650255                    61   \n",
       "562  1178101.365  1866810.123  41.789841 -87.622490                    40   \n",
       "563  1150644.396  1914368.955  41.920927 -87.721925                    22   \n",
       "564  1185825.188  1860883.579  41.773400 -87.594356                    42   \n",
       "565  1147521.302  1883405.128  41.836020 -87.734195                    30   \n",
       "\n",
       "    COMMUNITY_AREA_NAME  Ward Police_District                     Location  \n",
       "0          LINCOLN PARK    43              18  (41.92449696, -87.64452163)  \n",
       "1           SOUTH SHORE     7               4  (41.76032435, -87.55673627)  \n",
       "2               ASHBURN    13               8  (41.74711093, -87.73170248)  \n",
       "3              NEW CITY    20               9    (41.8097569, -87.6721446)  \n",
       "4         ARMOUR SQUARE    11               9  (41.82814609, -87.63279369)  \n",
       "..                  ...   ...             ...                          ...  \n",
       "561            NEW CITY    16               9  (41.79978772, -87.65025483)  \n",
       "562     WASHINGTON PARK    20               2  (41.78984129, -87.62248974)  \n",
       "563        LOGAN SQUARE    35              25  (41.92092734, -87.72192541)  \n",
       "564            WOODLAWN     5               3  (41.77339962, -87.59435584)  \n",
       "565      SOUTH LAWNDALE    22              10  (41.83601953, -87.73419465)  \n",
       "\n",
       "[566 rows x 78 columns]"
      ]
     },
     "execution_count": 13,
     "metadata": {},
     "output_type": "execute_result"
    }
   ],
   "source": [
    "# Store the dataset in a Table\n",
    "df = pandas.read_csv(\"https://cf-courses-data.s3.us.cloud-object-storage.appdomain.cloud/IBMDeveloperSkillsNetwork-DB0201EN-SkillsNetwork/labs/FinalModule_Coursera_V5/data/ChicagoPublicSchools.csv\")\n",
    "df.to_sql(\"CHICAGO_PUBLIC_SCHOOLS_DATA\", con, if_exists='replace', index=False, method=\"multi\")\n",
    "df"
   ]
  },
  {
   "cell_type": "code",
   "execution_count": 21,
   "metadata": {},
   "outputs": [
    {
     "data": {
      "text/plain": [
       "('CHICAGO_PUBLIC_SCHOOLS_DATA',)"
      ]
     },
     "execution_count": 21,
     "metadata": {},
     "output_type": "execute_result"
    }
   ],
   "source": [
    "# type in your query to retrieve list of all tables in the database\n",
    "cur.execute(\"SELECT name FROM sqlite_master WHERE type='table'\")\n",
    "result = cur.fetchone()\n",
    "result"
   ]
  },
  {
   "cell_type": "code",
   "execution_count": 20,
   "metadata": {},
   "outputs": [
    {
     "data": {
      "text/plain": [
       "(78,)"
      ]
     },
     "execution_count": 20,
     "metadata": {},
     "output_type": "execute_result"
    }
   ],
   "source": [
    "# type in your query to retrieve the number of columns in the SCHOOLS table\n",
    "cur.execute(\"SELECT count(name) FROM PRAGMA_TABLE_INFO('CHICAGO_PUBLIC_SCHOOLS_DATA')\")\n",
    "result = cur.fetchone()\n",
    "result"
   ]
  },
  {
   "cell_type": "code",
   "execution_count": 58,
   "metadata": {},
   "outputs": [
    {
     "name": "stdout",
     "output_type": "stream",
     "text": [
      "[('School_ID',), ('NAME_OF_SCHOOL',), ('Elementary, Middle, or High School',), ('Street_Address',), ('City',), ('State',), ('ZIP_Code',), ('Phone_Number',), ('Link',), ('Network_Manager',), ('Collaborative_Name',), ('Adequate_Yearly_Progress_Made_',), ('Track_Schedule',), ('CPS_Performance_Policy_Status',), ('CPS_Performance_Policy_Level',), ('HEALTHY_SCHOOL_CERTIFIED',), ('Safety_Icon',), ('SAFETY_SCORE',), ('Family_Involvement_Icon',), ('Family_Involvement_Score',), ('Environment_Icon',), ('Environment_Score',), ('Instruction_Icon',), ('Instruction_Score',), ('Leaders_Icon',), ('Leaders_Score',), ('Teachers_Icon',), ('Teachers_Score',), ('Parent_Engagement_Icon',), ('Parent_Engagement_Score',), ('Parent_Environment_Icon',), ('Parent_Environment_Score',), ('AVERAGE_STUDENT_ATTENDANCE',), ('Rate_of_Misconducts__per_100_students_',), ('Average_Teacher_Attendance',), ('Individualized_Education_Program_Compliance_Rate',), ('Pk_2_Literacy__',), ('Pk_2_Math__',), ('Gr3_5_Grade_Level_Math__',), ('Gr3_5_Grade_Level_Read__',), ('Gr3_5_Keep_Pace_Read__',), ('Gr3_5_Keep_Pace_Math__',), ('Gr6_8_Grade_Level_Math__',), ('Gr6_8_Grade_Level_Read__',), ('Gr6_8_Keep_Pace_Math_',), ('Gr6_8_Keep_Pace_Read__',), ('Gr_8_Explore_Math__',), ('Gr_8_Explore_Read__',), ('ISAT_Exceeding_Math__',), ('ISAT_Exceeding_Reading__',), ('ISAT_Value_Add_Math',), ('ISAT_Value_Add_Read',), ('ISAT_Value_Add_Color_Math',), ('ISAT_Value_Add_Color_Read',), ('Students_Taking__Algebra__',), ('Students_Passing__Algebra__',), ('9th Grade EXPLORE (2009)',), ('9th Grade EXPLORE (2010)',), ('10th Grade PLAN (2009)',), ('10th Grade PLAN (2010)',), ('Net_Change_EXPLORE_and_PLAN',), ('11th Grade Average ACT (2011)',), ('Net_Change_PLAN_and_ACT',), ('College_Eligibility__',), ('Graduation_Rate__',), ('College_Enrollment_Rate__',), ('COLLEGE_ENROLLMENT',), ('General_Services_Route',), ('Freshman_on_Track_Rate__',), ('X_COORDINATE',), ('Y_COORDINATE',), ('Latitude',), ('Longitude',), ('COMMUNITY_AREA_NUMBER',), ('COMMUNITY_AREA_NAME',), ('Ward',), ('Police_District',), ('Location',)]\n"
     ]
    }
   ],
   "source": [
    "cur.execute(\"SELECT name FROM PRAGMA_TABLE_INFO('CHICAGO_PUBLIC_SCHOOLS_DATA')\")\n",
    "result = cur.fetchall()\n",
    "column_list = []\n",
    "for res in result:\n",
    "    column_list.append(res)\n",
    "print(column_list)"
   ]
  },
  {
   "cell_type": "code",
   "execution_count": 27,
   "metadata": {},
   "outputs": [
    {
     "name": "stdout",
     "output_type": "stream",
     "text": [
      "('School_ID', 'INTEGER', 7)\n",
      "('NAME_OF_SCHOOL', 'TEXT', 4)\n",
      "('Elementary, Middle, or High School', 'TEXT', 4)\n",
      "('Street_Address', 'TEXT', 4)\n",
      "('City', 'TEXT', 4)\n",
      "('State', 'TEXT', 4)\n",
      "('ZIP_Code', 'INTEGER', 7)\n",
      "('Phone_Number', 'TEXT', 4)\n",
      "('Link', 'TEXT', 4)\n",
      "('Network_Manager', 'TEXT', 4)\n",
      "('Collaborative_Name', 'TEXT', 4)\n",
      "('Adequate_Yearly_Progress_Made_', 'TEXT', 4)\n",
      "('Track_Schedule', 'TEXT', 4)\n",
      "('CPS_Performance_Policy_Status', 'TEXT', 4)\n",
      "('CPS_Performance_Policy_Level', 'TEXT', 4)\n",
      "('HEALTHY_SCHOOL_CERTIFIED', 'TEXT', 4)\n",
      "('Safety_Icon', 'TEXT', 4)\n",
      "('SAFETY_SCORE', 'REAL', 4)\n",
      "('Family_Involvement_Icon', 'TEXT', 4)\n",
      "('Family_Involvement_Score', 'TEXT', 4)\n",
      "('Environment_Icon', 'TEXT', 4)\n",
      "('Environment_Score', 'REAL', 4)\n",
      "('Instruction_Icon', 'TEXT', 4)\n",
      "('Instruction_Score', 'REAL', 4)\n",
      "('Leaders_Icon', 'TEXT', 4)\n",
      "('Leaders_Score', 'TEXT', 4)\n",
      "('Teachers_Icon', 'TEXT', 4)\n",
      "('Teachers_Score', 'TEXT', 4)\n",
      "('Parent_Engagement_Icon', 'TEXT', 4)\n",
      "('Parent_Engagement_Score', 'TEXT', 4)\n",
      "('Parent_Environment_Icon', 'TEXT', 4)\n",
      "('Parent_Environment_Score', 'TEXT', 4)\n",
      "('AVERAGE_STUDENT_ATTENDANCE', 'TEXT', 4)\n",
      "('Rate_of_Misconducts__per_100_students_', 'REAL', 4)\n",
      "('Average_Teacher_Attendance', 'TEXT', 4)\n",
      "('Individualized_Education_Program_Compliance_Rate', 'TEXT', 4)\n",
      "('Pk_2_Literacy__', 'TEXT', 4)\n",
      "('Pk_2_Math__', 'TEXT', 4)\n",
      "('Gr3_5_Grade_Level_Math__', 'TEXT', 4)\n",
      "('Gr3_5_Grade_Level_Read__', 'TEXT', 4)\n",
      "('Gr3_5_Keep_Pace_Read__', 'TEXT', 4)\n",
      "('Gr3_5_Keep_Pace_Math__', 'TEXT', 4)\n",
      "('Gr6_8_Grade_Level_Math__', 'TEXT', 4)\n",
      "('Gr6_8_Grade_Level_Read__', 'TEXT', 4)\n",
      "('Gr6_8_Keep_Pace_Math_', 'TEXT', 4)\n",
      "('Gr6_8_Keep_Pace_Read__', 'TEXT', 4)\n",
      "('Gr_8_Explore_Math__', 'TEXT', 4)\n",
      "('Gr_8_Explore_Read__', 'TEXT', 4)\n",
      "('ISAT_Exceeding_Math__', 'REAL', 4)\n",
      "('ISAT_Exceeding_Reading__', 'REAL', 4)\n",
      "('ISAT_Value_Add_Math', 'REAL', 4)\n",
      "('ISAT_Value_Add_Read', 'REAL', 4)\n",
      "('ISAT_Value_Add_Color_Math', 'TEXT', 4)\n",
      "('ISAT_Value_Add_Color_Read', 'TEXT', 4)\n",
      "('Students_Taking__Algebra__', 'TEXT', 4)\n",
      "('Students_Passing__Algebra__', 'TEXT', 4)\n",
      "('9th Grade EXPLORE (2009)', 'TEXT', 4)\n",
      "('9th Grade EXPLORE (2010)', 'TEXT', 4)\n",
      "('10th Grade PLAN (2009)', 'TEXT', 4)\n",
      "('10th Grade PLAN (2010)', 'TEXT', 4)\n",
      "('Net_Change_EXPLORE_and_PLAN', 'TEXT', 4)\n",
      "('11th Grade Average ACT (2011)', 'TEXT', 4)\n",
      "('Net_Change_PLAN_and_ACT', 'TEXT', 4)\n",
      "('College_Eligibility__', 'TEXT', 4)\n",
      "('Graduation_Rate__', 'TEXT', 4)\n",
      "('College_Enrollment_Rate__', 'TEXT', 4)\n",
      "('COLLEGE_ENROLLMENT', 'INTEGER', 7)\n",
      "('General_Services_Route', 'INTEGER', 7)\n",
      "('Freshman_on_Track_Rate__', 'TEXT', 4)\n",
      "('X_COORDINATE', 'REAL', 4)\n",
      "('Y_COORDINATE', 'REAL', 4)\n",
      "('Latitude', 'REAL', 4)\n",
      "('Longitude', 'REAL', 4)\n",
      "('COMMUNITY_AREA_NUMBER', 'INTEGER', 7)\n",
      "('COMMUNITY_AREA_NAME', 'TEXT', 4)\n",
      "('Ward', 'INTEGER', 7)\n",
      "('Police_District', 'INTEGER', 7)\n",
      "('Location', 'TEXT', 4)\n"
     ]
    }
   ],
   "source": [
    "# type in your query to retrieve all column names in the SCHOOLS table along with their datatypes and length\n",
    "cur.execute(\"SELECT name,type,length(type) FROM PRAGMA_TABLE_INFO('CHICAGO_PUBLIC_SCHOOLS_DATA')\")\n",
    "result = cur.fetchall()\n",
    "for res in result:\n",
    "    print(res)"
   ]
  },
  {
   "cell_type": "code",
   "execution_count": 19,
   "metadata": {},
   "outputs": [
    {
     "data": {
      "text/plain": [
       "(462,)"
      ]
     },
     "execution_count": 19,
     "metadata": {},
     "output_type": "execute_result"
    }
   ],
   "source": [
    "# How many Elementary Schools are in the dataset?\n",
    "cur.execute('SELECT count(\"Elementary, Middle, or High School\") FROM CHICAGO_PUBLIC_SCHOOLS_DATA WHERE \"Elementary, Middle, or High School\"=\"ES\" ')\n",
    "result = cur.fetchone()\n",
    "result"
   ]
  },
  {
   "cell_type": "code",
   "execution_count": 24,
   "metadata": {},
   "outputs": [
    {
     "data": {
      "text/plain": [
       "(99.0,)"
      ]
     },
     "execution_count": 24,
     "metadata": {},
     "output_type": "execute_result"
    }
   ],
   "source": [
    " # What is the highest Safety Score?\n",
    "cur.execute('SELECT MAX(SAFETY_SCORE) FROM CHICAGO_PUBLIC_SCHOOLS_DATA')\n",
    "result = cur.fetchone()\n",
    "result"
   ]
  },
  {
   "cell_type": "code",
   "execution_count": 26,
   "metadata": {},
   "outputs": [
    {
     "data": {
      "text/plain": [
       "[('Abraham Lincoln Elementary School',),\n",
       " ('Alexander Graham Bell Elementary School',),\n",
       " ('Annie Keller Elementary Gifted Magnet School',),\n",
       " ('Augustus H Burley Elementary School',),\n",
       " ('Edgar Allan Poe Elementary Classical School',),\n",
       " ('Edgebrook Elementary School',),\n",
       " ('Ellen Mitchell Elementary School',),\n",
       " ('James E McDade Elementary Classical School',),\n",
       " ('James G Blaine Elementary School',),\n",
       " ('LaSalle Elementary Language Academy',),\n",
       " ('Mary E Courtenay Elementary Language Arts Center',),\n",
       " ('Northside College Preparatory High School',),\n",
       " ('Northside Learning Center High School',),\n",
       " ('Norwood Park Elementary School',),\n",
       " ('Oriole Park Elementary School',),\n",
       " ('Sauganash Elementary School',),\n",
       " ('Stephen Decatur Classical Elementary School',),\n",
       " ('Talman Elementary School',),\n",
       " ('Wildwood Elementary School',)]"
      ]
     },
     "execution_count": 26,
     "metadata": {},
     "output_type": "execute_result"
    }
   ],
   "source": [
    "# Which schools have highest Safety Score?\n",
    "cur.execute('SELECT NAME_OF_SCHOOL FROM CHICAGO_PUBLIC_SCHOOLS_DATA WHERE SAFETY_SCORE = (SELECT MAX(SAFETY_SCORE) FROM CHICAGO_PUBLIC_SCHOOLS_DATA)')\n",
    "result = cur.fetchall()\n",
    "result"
   ]
  },
  {
   "cell_type": "code",
   "execution_count": 30,
   "metadata": {},
   "outputs": [
    {
     "data": {
      "text/plain": [
       "[('John Charles Haines Elementary School', '98.40%'),\n",
       " ('James Ward Elementary School', '97.80%'),\n",
       " ('Edgar Allan Poe Elementary Classical School', '97.60%'),\n",
       " ('Orozco Fine Arts & Sciences Elementary School', '97.60%'),\n",
       " ('Rachel Carson Elementary School', '97.60%'),\n",
       " ('Annie Keller Elementary Gifted Magnet School', '97.50%'),\n",
       " ('Andrew Jackson Elementary Language Academy', '97.40%'),\n",
       " ('Lenart Elementary Regional Gifted Center', '97.40%'),\n",
       " ('Disney II Magnet School', '97.30%'),\n",
       " ('John H Vanderpoel Elementary Magnet School', '97.20%')]"
      ]
     },
     "execution_count": 30,
     "metadata": {},
     "output_type": "execute_result"
    }
   ],
   "source": [
    "# What are the top 10 schools with the highest \"Average Student Attendance\"?\n",
    "cur.execute('SELECT NAME_OF_SCHOOL, AVERAGE_STUDENT_ATTENDANCE FROM CHICAGO_PUBLIC_SCHOOLS_DATA ORDER BY  AVERAGE_STUDENT_ATTENDANCE DESC LIMIT 10')\n",
    "result = cur.fetchall()\n",
    "result"
   ]
  },
  {
   "cell_type": "code",
   "execution_count": 34,
   "metadata": {},
   "outputs": [
    {
     "data": {
      "text/plain": [
       "[('Richard T Crane Technical Preparatory High School', '57.90%'),\n",
       " ('Barbara Vick Early Childhood & Family Center', '60.90%'),\n",
       " ('Dyett High School', '62.50%'),\n",
       " ('Wendell Phillips Academy High School', '63.00%'),\n",
       " ('Orr Academy High School', '66.30%')]"
      ]
     },
     "execution_count": 34,
     "metadata": {},
     "output_type": "execute_result"
    }
   ],
   "source": [
    "# Retrieve the list of 5 Schools with the lowest Average Student Attendance sorted in ascending order based on attendance\n",
    "cur.execute('SELECT NAME_OF_SCHOOL, AVERAGE_STUDENT_ATTENDANCE FROM CHICAGO_PUBLIC_SCHOOLS_DATA ORDER BY  AVERAGE_STUDENT_ATTENDANCE nulls last LIMIT 5')\n",
    "result = cur.fetchall()\n",
    "result"
   ]
  },
  {
   "cell_type": "code",
   "execution_count": 37,
   "metadata": {},
   "outputs": [
    {
     "data": {
      "text/plain": [
       "[('Velma F Thomas Early Childhood Center', None),\n",
       " ('Richard T Crane Technical Preparatory High School', '57.90'),\n",
       " ('Barbara Vick Early Childhood & Family Center', '60.90'),\n",
       " ('Dyett High School', '62.50'),\n",
       " ('Wendell Phillips Academy High School', '63.00')]"
      ]
     },
     "execution_count": 37,
     "metadata": {},
     "output_type": "execute_result"
    }
   ],
   "source": [
    "# Now remove the '%' sign from the above result set for Average Student Attendance column\n",
    "cur.execute('SELECT Name_of_School, REPLACE(Average_Student_Attendance, \"%\", \"\") \\\n",
    "     from CHICAGO_PUBLIC_SCHOOLS_DATA \\\n",
    "     order by Average_Student_Attendance \\\n",
    "     LIMIT 5')\n",
    "result = cur.fetchall()\n",
    "result"
   ]
  },
  {
   "cell_type": "code",
   "execution_count": 39,
   "metadata": {},
   "outputs": [
    {
     "data": {
      "text/plain": [
       "[('Richard T Crane Technical Preparatory High School', '57.90%'),\n",
       " ('Barbara Vick Early Childhood & Family Center', '60.90%'),\n",
       " ('Dyett High School', '62.50%'),\n",
       " ('Wendell Phillips Academy High School', '63.00%'),\n",
       " ('Orr Academy High School', '66.30%'),\n",
       " ('Manley Career Academy High School', '66.80%'),\n",
       " ('Chicago Vocational Career Academy High School', '68.80%'),\n",
       " ('Roberto Clemente Community Academy High School', '69.60%')]"
      ]
     },
     "execution_count": 39,
     "metadata": {},
     "output_type": "execute_result"
    }
   ],
   "source": [
    "# Which Schools have Average Student Attendance lower than 70%?\n",
    "cur.execute('SELECT Name_of_School, Average_Student_Attendance  \\\n",
    "     from CHICAGO_PUBLIC_SCHOOLS_DATA \\\n",
    "     where CAST ( REPLACE(Average_Student_Attendance, \"%\", \"\") AS DOUBLE ) < 70 \\\n",
    "     order by Average_Student_Attendance')\n",
    "result = cur.fetchall()\n",
    "result"
   ]
  },
  {
   "cell_type": "code",
   "execution_count": 41,
   "metadata": {},
   "outputs": [
    {
     "data": {
      "text/plain": [
       "[('ALBANY PARK', 6864),\n",
       " ('ARCHER HEIGHTS', 4823),\n",
       " ('ARMOUR SQUARE', 1458),\n",
       " ('ASHBURN', 6483),\n",
       " ('AUBURN GRESHAM', 4175),\n",
       " ('AUSTIN', 10933),\n",
       " ('AVALON PARK', 1522),\n",
       " ('AVONDALE', 3640),\n",
       " ('BELMONT CRAGIN', 14386),\n",
       " ('BEVERLY', 1636),\n",
       " ('BRIDGEPORT', 3167),\n",
       " ('BRIGHTON PARK', 9647),\n",
       " ('BURNSIDE', 549),\n",
       " ('CALUMET HEIGHTS', 1568),\n",
       " ('CHATHAM', 5042),\n",
       " ('CHICAGO LAWN', 7086),\n",
       " ('CLEARING', 2085),\n",
       " ('DOUGLAS', 4670),\n",
       " ('DUNNING', 4568),\n",
       " ('EAST GARFIELD PARK', 5337),\n",
       " ('EAST SIDE', 5305),\n",
       " ('EDGEWATER', 4600),\n",
       " ('EDISON PARK', 910),\n",
       " ('ENGLEWOOD', 6832),\n",
       " ('FOREST GLEN', 1431),\n",
       " ('FULLER PARK', 531),\n",
       " ('GAGE PARK', 9915),\n",
       " ('GARFIELD RIDGE', 4552),\n",
       " ('GRAND BOULEVARD', 2809),\n",
       " ('GREATER GRAND CROSSING', 4051),\n",
       " ('HEGEWISCH', 963),\n",
       " ('HERMOSA', 3975),\n",
       " ('HUMBOLDT PARK', 8620),\n",
       " ('HYDE PARK', 1930),\n",
       " ('IRVING PARK', 7764),\n",
       " ('JEFFERSON PARK', 1755),\n",
       " ('KENWOOD', 4287),\n",
       " ('LAKE VIEW', 7055),\n",
       " ('LINCOLN PARK', 5615),\n",
       " ('LINCOLN SQUARE', 4132),\n",
       " ('LOGAN SQUARE', 7351),\n",
       " ('LOOP', 871),\n",
       " ('LOWER WEST SIDE', 7257),\n",
       " ('MCKINLEY PARK', 1552),\n",
       " ('MONTCLARE', 1317),\n",
       " ('MORGAN PARK', 3271),\n",
       " ('MOUNT GREENWOOD', 2091),\n",
       " ('NEAR NORTH SIDE', 3362),\n",
       " ('NEAR SOUTH SIDE', 1378),\n",
       " ('NEAR WEST SIDE', 7975),\n",
       " ('NEW CITY', 7922),\n",
       " ('NORTH CENTER', 7541),\n",
       " ('NORTH LAWNDALE', 5146),\n",
       " ('NORTH PARK', 4210),\n",
       " ('NORWOOD PARK', 6469),\n",
       " ('OAKLAND', 140),\n",
       " ('OHARE', 786),\n",
       " ('PORTAGE PARK', 6954),\n",
       " ('PULLMAN', 1620),\n",
       " ('RIVERDALE', 1547),\n",
       " ('ROGERS PARK', 4068),\n",
       " ('ROSELAND', 7020),\n",
       " ('SOUTH CHICAGO', 4043),\n",
       " ('SOUTH DEERING', 1859),\n",
       " ('SOUTH LAWNDALE', 14793),\n",
       " ('SOUTH SHORE', 4543),\n",
       " ('UPTOWN', 4388),\n",
       " ('WASHINGTON HEIGHTS', 4006),\n",
       " ('WASHINGTON PARK', 2648),\n",
       " ('WEST ELSDON', 3700),\n",
       " ('WEST ENGLEWOOD', 5946),\n",
       " ('WEST GARFIELD PARK', 2622),\n",
       " ('WEST LAWN', 4207),\n",
       " ('WEST PULLMAN', 3240),\n",
       " ('WEST RIDGE', 8197),\n",
       " ('WEST TOWN', 9429),\n",
       " ('WOODLAWN', 4206)]"
      ]
     },
     "execution_count": 41,
     "metadata": {},
     "output_type": "execute_result"
    }
   ],
   "source": [
    "# Get the total College Enrollment for each Community Area\n",
    "cur.execute('SELECT COMMUNITY_AREA_NAME, SUM(COLLEGE_ENROLLMENT) FROM CHICAGO_PUBLIC_SCHOOLS_DATA GROUP BY COMMUNITY_AREA_NAME')\n",
    "result = cur.fetchall()\n",
    "result"
   ]
  },
  {
   "cell_type": "code",
   "execution_count": 43,
   "metadata": {},
   "outputs": [
    {
     "data": {
      "text/plain": [
       "[('OAKLAND', 140),\n",
       " ('FULLER PARK', 531),\n",
       " ('BURNSIDE', 549),\n",
       " ('OHARE', 786),\n",
       " ('LOOP', 871)]"
      ]
     },
     "execution_count": 43,
     "metadata": {},
     "output_type": "execute_result"
    }
   ],
   "source": [
    "# Get the 5 Community Areas with the least total College Enrollment sorted in ascending order\n",
    "cur.execute('SELECT COMMUNITY_AREA_NAME, SUM(COLLEGE_ENROLLMENT) AS TOTAL_ENROLLMENT  FROM CHICAGO_PUBLIC_SCHOOLS_DATA \\\n",
    "            GROUP BY COMMUNITY_AREA_NAME ORDER BY TOTAL_ENROLLMENT ASC LIMIT 5')\n",
    "result = cur.fetchall()\n",
    "result"
   ]
  },
  {
   "cell_type": "code",
   "execution_count": 55,
   "metadata": {},
   "outputs": [
    {
     "data": {
      "text/plain": [
       "[('Edmond Burke Elementary School', 1.0),\n",
       " (\"Luke O'Toole Elementary School\", 5.0),\n",
       " ('George W Tilton Elementary School', 6.0),\n",
       " ('Foster Park Elementary School', 11.0),\n",
       " ('Emil G Hirsch Metropolitan High School', 13.0)]"
      ]
     },
     "execution_count": 55,
     "metadata": {},
     "output_type": "execute_result"
    }
   ],
   "source": [
    "# List 5 schools with lowest safety score\n",
    "cur.execute('SELECT NAME_OF_SCHOOL, SAFETY_SCORE FROM CHICAGO_PUBLIC_SCHOOLS_DATA WHERE SAFETY_SCORE!=\"None\" ORDER BY SAFETY_SCORE LIMIT 5')\n",
    "result = cur.fetchall()\n",
    "result"
   ]
  },
  {
   "cell_type": "code",
   "execution_count": null,
   "metadata": {},
   "outputs": [],
   "source": [
    "# Get the hardship index for the community area of the school which has College Enrollment of 4368\n",
    "cur.execute('select hardship_index from CENSUS_DATA CD, CHICAGO_PUBLIC_SCHOOLS_DATA CPS \\\n",
    "where CD.community_area_number = CPS.community_area_number \\\n",
    "and college_enrollment = 4368')\n",
    "result = cur.fetchall()\n",
    "result"
   ]
  },
  {
   "cell_type": "code",
   "execution_count": null,
   "metadata": {},
   "outputs": [],
   "source": [
    "# Get the hardship index for the community area which has the highest value for College Enrollment\n",
    "cur.execute('select community_area_number, community_area_name, hardship_index from CENSUS_DATA \\\n",
    "   where community_area_number in \\\n",
    "   ( select community_area_number from CHICAGO_PUBLIC_SCHOOLS_DATA order by college_enrollment desc limit 1 )')\n",
    "result = cur.fetchall()\n",
    "result"
   ]
  }
 ],
 "metadata": {
  "kernelspec": {
   "display_name": "Python 3",
   "language": "python",
   "name": "python3"
  },
  "language_info": {
   "codemirror_mode": {
    "name": "ipython",
    "version": 3
   },
   "file_extension": ".py",
   "mimetype": "text/x-python",
   "name": "python",
   "nbconvert_exporter": "python",
   "pygments_lexer": "ipython3",
   "version": "3.11.7"
  }
 },
 "nbformat": 4,
 "nbformat_minor": 2
}
